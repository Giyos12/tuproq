{
 "cells": [
  {
   "cell_type": "code",
   "execution_count": 2,
   "metadata": {
    "collapsed": true
   },
   "outputs": [],
   "source": [
    "import ee\n",
    "import geemap.core as geemap\n"
   ]
  },
  {
   "cell_type": "code",
   "execution_count": 3,
   "outputs": [
    {
     "data": {
      "text/plain": "<IPython.core.display.HTML object>",
      "text/html": "\n            <style>\n                .geemap-dark {\n                    --jp-widgets-color: white;\n                    --jp-widgets-label-color: white;\n                    --jp-ui-font-color1: white;\n                    --jp-layout-color2: #454545;\n                    background-color: #383838;\n                }\n                    \n                .geemap-dark .jupyter-button {\n                    --jp-layout-color3: #383838;\n                }\n                \n                .geemap-colab {\n                    background-color: var(--colab-primary-surface-color, white);\n                }\n                    \n                .geemap-colab .jupyter-button {\n                    --jp-layout-color3: var(--colab-primary-surface-color, white);\n                }\n            </style>\n            "
     },
     "metadata": {},
     "output_type": "display_data"
    },
    {
     "data": {
      "text/plain": "<IPython.core.display.HTML object>",
      "text/html": "<p>To authorize access needed by Earth Engine, open the following\n        URL in a web browser and follow the instructions:</p>\n        <p><a href=https://code.earthengine.google.com/client-auth?scopes=https%3A//www.googleapis.com/auth/earthengine%20https%3A//www.googleapis.com/auth/devstorage.full_control&request_id=4dPokyyt-GoKQkVWWbOAOFrA6kvrhb4zxampH1ZdUGw&tc=shzdqswH2hW6k9F1HwpPH9pqUQkKpZfZjPiiR1bqd4I&cc=cRQYfpPkXOmtROyg2cYwM-TJh18fyv4V7Cde-w4TDd8>https://code.earthengine.google.com/client-auth?scopes=https%3A//www.googleapis.com/auth/earthengine%20https%3A//www.googleapis.com/auth/devstorage.full_control&request_id=4dPokyyt-GoKQkVWWbOAOFrA6kvrhb4zxampH1ZdUGw&tc=shzdqswH2hW6k9F1HwpPH9pqUQkKpZfZjPiiR1bqd4I&cc=cRQYfpPkXOmtROyg2cYwM-TJh18fyv4V7Cde-w4TDd8</a></p>\n        <p>The authorization workflow will generate a code, which you should paste in the box below.</p>\n        "
     },
     "metadata": {},
     "output_type": "display_data"
    },
    {
     "name": "stdout",
     "output_type": "stream",
     "text": [
      "\n",
      "Successfully saved authorization token.\n"
     ]
    }
   ],
   "source": [
    "ee.Authenticate()"
   ],
   "metadata": {
    "collapsed": false
   }
  },
  {
   "cell_type": "code",
   "execution_count": 11,
   "outputs": [
    {
     "data": {
      "text/plain": "<IPython.core.display.HTML object>",
      "text/html": "\n            <style>\n                .geemap-dark {\n                    --jp-widgets-color: white;\n                    --jp-widgets-label-color: white;\n                    --jp-ui-font-color1: white;\n                    --jp-layout-color2: #454545;\n                    background-color: #383838;\n                }\n                    \n                .geemap-dark .jupyter-button {\n                    --jp-layout-color3: #383838;\n                }\n                \n                .geemap-colab {\n                    background-color: var(--colab-primary-surface-color, white);\n                }\n                    \n                .geemap-colab .jupyter-button {\n                    --jp-layout-color3: var(--colab-primary-surface-color, white);\n                }\n            </style>\n            "
     },
     "metadata": {},
     "output_type": "display_data"
    },
    {
     "data": {
      "text/plain": "Map(center=[0, 0], controls=(ZoomControl(options=['position', 'zoom_in_text', 'zoom_in_title', 'zoom_out_text'…",
      "application/vnd.jupyter.widget-view+json": {
       "version_major": 2,
       "version_minor": 0,
       "model_id": "e2885b82ce014b9c9354ee4dc784e2ec"
      }
     },
     "metadata": {},
     "output_type": "display_data"
    },
    {
     "data": {
      "text/plain": "<ee.image.Image at 0x289154127a0>",
      "text/html": "<div><style>:root {\n  --font-color-primary: var(--jp-content-font-color0, rgba(0, 0, 0, 1));\n  --font-color-secondary: var(--jp-content-font-color2, rgba(0, 0, 0, 0.6));\n  --font-color-accent: rgba(123, 31, 162, 1);\n  --border-color: var(--jp-border-color2, #e0e0e0);\n  --background-color: var(--jp-layout-color0, white);\n  --background-color-row-even: var(--jp-layout-color1, white);\n  --background-color-row-odd: var(--jp-layout-color2, #eeeeee);\n}\n\nhtml[theme=\"dark\"],\nbody[data-theme=\"dark\"],\nbody.vscode-dark {\n  --font-color-primary: rgba(255, 255, 255, 1);\n  --font-color-secondary: rgba(255, 255, 255, 0.6);\n  --font-color-accent: rgb(173, 132, 190);\n  --border-color: #2e2e2e;\n  --background-color: #111111;\n  --background-color-row-even: #111111;\n  --background-color-row-odd: #313131;\n}\n\n.ee {\n  padding: 1em;\n  line-height: 1.5em;\n  min-width: 300px;\n  max-width: 1200px;\n  overflow-y: scroll;\n  max-height: 600px;\n  border: 1px solid var(--border-color);\n  font-family: monospace;\n}\n\n.ee li {\n  list-style-type: none;\n}\n\n.ee ul {\n  padding-left: 1.5em !important;\n  margin: 0;\n}\n\n.ee > ul {\n  padding-left: 0 !important;\n}\n\n.ee-open,\n.ee-shut {\n  color: var(--font-color-secondary);\n  cursor: pointer;\n  margin: 0;\n}\n\n.ee-open:hover,\n.ee-shut:hover {\n  color: var(--font-color-primary);\n}\n\n.ee-k {\n  color: var(--font-color-accent);\n  margin-right: 6px;\n}\n\n.ee-v {\n  color: var(--font-color-primary);\n}\n\n.ee-toggle {\n  display: none;\n}\n\n.ee-shut + ul {\n  display: none;\n}\n\n.ee-open + ul {\n  display: block;\n}\n\n.ee-shut::before {\n  display: inline-block;\n  content: \"▼\";\n  margin-right: 6px;\n  transform: rotate(-90deg);\n  transition: transform 0.2s;\n}\n\n.ee-open::before {\n  transform: rotate(0deg);\n  display: inline-block;\n  content: \"▼\";\n  margin-right: 6px;\n  transition: transform 0.2s;\n}\n</style><div class='ee'><ul><li><label class='ee-shut'>Image JAXA/ALOS/AW3D30/V2_2 (3 bands)<input type='checkbox' class='ee-toggle'></label><ul><li><span class='ee-k'>type:</span><span class='ee-v'>Image</span></li><li><span class='ee-k'>id:</span><span class='ee-v'>JAXA/ALOS/AW3D30/V2_2</span></li><li><span class='ee-k'>version:</span><span class='ee-v'>1641990176334383</span></li><li><label class='ee-shut'>bands: List (3 elements)<input type='checkbox' class='ee-toggle'></label><ul><li><label class='ee-shut'>0: \"AVE_DSM\", signed int16, EPSG:4326, 1296000x597600 px<input type='checkbox' class='ee-toggle'></label><ul><li><span class='ee-k'>id:</span><span class='ee-v'>AVE_DSM</span></li><li><span class='ee-k'>crs:</span><span class='ee-v'>EPSG:4326</span></li><li><label class='ee-shut'>crs_transform: List (6 elements)<input type='checkbox' class='ee-toggle'></label><ul><li><span class='ee-k'>0:</span><span class='ee-v'>0.0002777777777777778</span></li><li><span class='ee-k'>1:</span><span class='ee-v'>0</span></li><li><span class='ee-k'>2:</span><span class='ee-v'>-180</span></li><li><span class='ee-k'>3:</span><span class='ee-v'>0</span></li><li><span class='ee-k'>4:</span><span class='ee-v'>-0.0002777777777777778</span></li><li><span class='ee-k'>5:</span><span class='ee-v'>84</span></li></ul></li><li><label class='ee-shut'>data_type: signed int16<input type='checkbox' class='ee-toggle'></label><ul><li><span class='ee-k'>type:</span><span class='ee-v'>PixelType</span></li><li><span class='ee-k'>max:</span><span class='ee-v'>32767</span></li><li><span class='ee-k'>min:</span><span class='ee-v'>-32768</span></li><li><span class='ee-k'>precision:</span><span class='ee-v'>int</span></li></ul></li><li><label class='ee-shut'>dimensions: [1296000, 597600]<input type='checkbox' class='ee-toggle'></label><ul><li><span class='ee-k'>0:</span><span class='ee-v'>1296000</span></li><li><span class='ee-k'>1:</span><span class='ee-v'>597600</span></li></ul></li></ul></li><li><label class='ee-shut'>1: \"AVE_STK\", unsigned int8, EPSG:4326, 1296000x597600 px<input type='checkbox' class='ee-toggle'></label><ul><li><span class='ee-k'>id:</span><span class='ee-v'>AVE_STK</span></li><li><span class='ee-k'>crs:</span><span class='ee-v'>EPSG:4326</span></li><li><label class='ee-shut'>crs_transform: List (6 elements)<input type='checkbox' class='ee-toggle'></label><ul><li><span class='ee-k'>0:</span><span class='ee-v'>0.0002777777777777778</span></li><li><span class='ee-k'>1:</span><span class='ee-v'>0</span></li><li><span class='ee-k'>2:</span><span class='ee-v'>-180</span></li><li><span class='ee-k'>3:</span><span class='ee-v'>0</span></li><li><span class='ee-k'>4:</span><span class='ee-v'>-0.0002777777777777778</span></li><li><span class='ee-k'>5:</span><span class='ee-v'>84</span></li></ul></li><li><label class='ee-shut'>data_type: unsigned int8<input type='checkbox' class='ee-toggle'></label><ul><li><span class='ee-k'>type:</span><span class='ee-v'>PixelType</span></li><li><span class='ee-k'>max:</span><span class='ee-v'>255</span></li><li><span class='ee-k'>min:</span><span class='ee-v'>0</span></li><li><span class='ee-k'>precision:</span><span class='ee-v'>int</span></li></ul></li><li><label class='ee-shut'>dimensions: [1296000, 597600]<input type='checkbox' class='ee-toggle'></label><ul><li><span class='ee-k'>0:</span><span class='ee-v'>1296000</span></li><li><span class='ee-k'>1:</span><span class='ee-v'>597600</span></li></ul></li></ul></li><li><label class='ee-shut'>2: \"AVE_MSK\", unsigned int8, EPSG:4326, 1296000x597600 px<input type='checkbox' class='ee-toggle'></label><ul><li><span class='ee-k'>id:</span><span class='ee-v'>AVE_MSK</span></li><li><span class='ee-k'>crs:</span><span class='ee-v'>EPSG:4326</span></li><li><label class='ee-shut'>crs_transform: List (6 elements)<input type='checkbox' class='ee-toggle'></label><ul><li><span class='ee-k'>0:</span><span class='ee-v'>0.0002777777777777778</span></li><li><span class='ee-k'>1:</span><span class='ee-v'>0</span></li><li><span class='ee-k'>2:</span><span class='ee-v'>-180</span></li><li><span class='ee-k'>3:</span><span class='ee-v'>0</span></li><li><span class='ee-k'>4:</span><span class='ee-v'>-0.0002777777777777778</span></li><li><span class='ee-k'>5:</span><span class='ee-v'>84</span></li></ul></li><li><label class='ee-shut'>data_type: unsigned int8<input type='checkbox' class='ee-toggle'></label><ul><li><span class='ee-k'>type:</span><span class='ee-v'>PixelType</span></li><li><span class='ee-k'>max:</span><span class='ee-v'>255</span></li><li><span class='ee-k'>min:</span><span class='ee-v'>0</span></li><li><span class='ee-k'>precision:</span><span class='ee-v'>int</span></li></ul></li><li><label class='ee-shut'>dimensions: [1296000, 597600]<input type='checkbox' class='ee-toggle'></label><ul><li><span class='ee-k'>0:</span><span class='ee-v'>1296000</span></li><li><span class='ee-k'>1:</span><span class='ee-v'>597600</span></li></ul></li></ul></li></ul></li><li><label class='ee-shut'>properties: Object (23 properties)<input type='checkbox' class='ee-toggle'></label><ul><li><label class='ee-shut'>date_range: [1138060800000, 1305158400000]<input type='checkbox' class='ee-toggle'></label><ul><li><span class='ee-k'>0:</span><span class='ee-v'>1138060800000</span></li><li><span class='ee-k'>1:</span><span class='ee-v'>1305158400000</span></li></ul></li><li><span class='ee-k'>description:</span><span class='ee-v'><p>ALOS World 3D - 30m (AW3D30) is a global digital surface\nmodel (DSM) dataset with a horizontal resolution of approximately\n30 meters (1 arcsec mesh). The dataset is based on the DSM dataset\n(5-meter mesh version) of the <a href=\"https://www.aw3d.jp/en/\">World 3D Topographic Data</a>.\nMore details are available in the dataset <a href=\"https://www.eorc.jaxa.jp/ALOS/en/aw3d30/aw3d30v11_format_e.pdf\">documentation</a>.</p><p>Version 2.2, released in April 2019 is an improved version of the\nnorthern region over 60 degrees north. Along with the complement of no-data or\nlow-quality area, updating of coastline was also performed.</p><p><b>Provider: <a href=\"https://www.eorc.jaxa.jp/ALOS/en/aw3d30/\">JAXA Earth Observation Research Center</a></b><br><p><b>Resolution</b><br>30 meters\n</p><p><b>Bands</b><table class=\"eecat\"><tr><th scope=\"col\">Name</th><th scope=\"col\">Description</th></tr><tr><td>AVE_DSM</td><td><p>Height above sea level. Signed 16 bits (Little endian) raster data.\nElevation (in meter) converted from the ellipsoidal height based on ITRF97\nand GRS80, using EGM96†1 geoid model.</p></td></tr><tr><td>AVE_STK</td><td><p>Stacking number of the scene unit DSM used in producing\nDSM. The band is derived by resampling the stacking number for\n5m resolution DSM to 30m resolution.</p></td></tr><tr><td>AVE_MSK</td><td><p>8-bit mask for the ave band.</p></td></tr><tr><td colspan=100>\n      Bitmask for AVE_MSK\n<ul><li>\n          Bits 0-7: Generated from resampled DSM.\n<ul><li>0: Valid</li><li>1: Cloud and snow mask (invalid).</li><li>2: Land water and low correlation mask (valid).</li><li>3: Sea mask (valid).</li><li>4: Void filled with GSI DTM (valid).</li><li>8: Void filled with Shuttle Radar Topography Mission\nSRTM-1 Version 3 (valid).</li><li>12: Void filled with PRISM DSM (valid).</li><li>24: Void filled with ASTER GDEM v2 (valid).</li><li>28: Void filled with ArcticDEM v2 (valid).</li><li>252: Void filled with applied IDW method (gdal_fillnodata) (valid)</li></ul></li></ul></td></tr></table><p><sup>The AW3D DSM elevation is calculated by an image matching process\nthat uses a stereo pair of optical images. Clouds, snow, and ice are\nautomatically identified during processing and applied the\nmask information. However, mismatched points sometimes\nremain especially surrounding (or at the edges of) clouds, snow,\nand ice areas, which cause some height errors in the final DSM.\nHere are some example areas with data values outside of valid elevation\nrange. Impossibly low negative values are concentrated in Antarctica around\n(-63.77, -61.660), (-77.22, -150.27), and (-73.29, 168.14); in Indonesia\naround (-5.36, 134.55); in Brazil around (-1.667113844, -50.6269684);\nand in Peru around (-10.45048137, -75.39459876) with approximate values of\n-1013, -998, -635, and -610 respectively. Impossibly high\npositive values are found in several locations in the Arctic around\n(79.83, -77.67) and (69.54, -75.42); in Fiji around (-16.58, 179.44)\nand (-18.96, 178.39); and in Nepal around (28.50, 84.56) with\napproximate values of 15369, 15213, and 10900 respectively.</sup><p><b>Terms of Use</b><br><p>This dataset is available to use with no charge under\nthe conditions specified in the <a href=\"https://www.eorc.jaxa.jp/ALOS/en/aw3d30/\">Terms of use for ALOS Global Digital\nSurface Model</a>.</p><p><b>Suggested citation(s)</b><ul><li><dl><dt>T. Tadono, H. Ishida, F. Oda, S. Naito, K. Minakawa, H. Iwamoto</dt><dd>Precise Global DEM Generation By ALOS PRISM, ISPRS Annals of\nthe Photogrammetry, Remote Sensing and Spatial Information Sciences,\nVol.II-4, pp.71-76, 2014. <a href=\"https://www.isprs-ann-photogramm-remote-sens-spatial-inf-sci.net/II-4/71/2014/isprsannals-II-4-71-2014.pdf\">PDF file</a></dd></dl></li><li><p>J. Takaku, T. Tadono, K. Tsutsui : Generation of High Resolution\nGlobal DSM from ALOS PRISM, The International Archives of the Photogrammetry,\nRemote Sensing and Spatial Information Sciences, Vol. XL-4, pp.243-248,\nISPRS, 2014. <a href=\"https://www.int-arch-photogramm-remote-sens-spatial-inf-sci.net/XL-4/243/2014/isprsarchives-XL-4-243-2014.pdf\">PDF file</a></p></li><li><p>J. Takaku, T. Tadono, K. Tsutsui, M. Ichikawa : Validation of\n\\u2018AW3D\\u2019 Global DSM Generated from ALOS PRISM, ISPRS\nAnnals of the Photogrammetry, Remote Sensing and Spatial Information\nSciences, Vol.III-4, pp.25-31, 2016. <a href=\"https://www.isprs-ann-photogramm-remote-sens-spatial-inf-sci.net/III-4/25/2016/isprs-annals-III-4-25-2016.pdf\">PDF file</a></p></li><li><p>T. Tadono, H. Nagai, H. Ishida, F. Oda, S. Naito, K. Minakawa,\nH. Iwamoto : Initial Validation of the 30 m-mesh Global Digital\nSurface Model Generated by ALOS PRISM, The International Archives\nof the Photogrammetry, Remote Sensing and Spatial Information Sciences,\nISPRS, Vol. XLI-B4, pp.157-162, 2016. <a href=\"https://www.int-arch-photogramm-remote-sens-spatial-inf-sci.net/XLI-B4/157/2016/isprs-archives-XLI-B4-157-2016.pdf\">PDF file</a></p></li></ul><style>\n  table.eecat {\n  border: 1px solid black;\n  border-collapse: collapse;\n  font-size: 13px;\n  }\n  table.eecat td, tr, th {\n  text-align: left; vertical-align: top;\n  border: 1px solid gray; padding: 3px;\n  }\n  td.nobreak { white-space: nowrap; }\n</style></span></li><li><label class='ee-shut'>keywords: List (6 elements)<input type='checkbox' class='ee-toggle'></label><ul><li><span class='ee-k'>0:</span><span class='ee-v'>alos</span></li><li><span class='ee-k'>1:</span><span class='ee-v'>dem</span></li><li><span class='ee-k'>2:</span><span class='ee-v'>elevation</span></li><li><span class='ee-k'>3:</span><span class='ee-v'>geophysical</span></li><li><span class='ee-k'>4:</span><span class='ee-v'>jaxa</span></li><li><span class='ee-k'>5:</span><span class='ee-v'>topography</span></li></ul></li><li><span class='ee-k'>period:</span><span class='ee-v'>0</span></li><li><label class='ee-shut'>product_tags: List (5 elements)<input type='checkbox' class='ee-toggle'></label><ul><li><span class='ee-k'>0:</span><span class='ee-v'>alos</span></li><li><span class='ee-k'>1:</span><span class='ee-v'>elevation</span></li><li><span class='ee-k'>2:</span><span class='ee-v'>dem</span></li><li><span class='ee-k'>3:</span><span class='ee-v'>geophysical</span></li><li><span class='ee-k'>4:</span><span class='ee-v'>topography</span></li></ul></li><li><span class='ee-k'>provider:</span><span class='ee-v'>JAXA Earth Observation Research Center</span></li><li><span class='ee-k'>provider_url:</span><span class='ee-v'>https://www.eorc.jaxa.jp/ALOS/en/aw3d30/</span></li><li><span class='ee-k'>sample:</span><span class='ee-v'>https://mw1.google.com/ges/dd/images/AW3D30_sample.png</span></li><li><label class='ee-shut'>source_tags: ['jaxa']<input type='checkbox' class='ee-toggle'></label><ul><li><span class='ee-k'>0:</span><span class='ee-v'>jaxa</span></li></ul></li><li><span class='ee-k'>superseded_by:</span><span class='ee-v'>JAXA/ALOS/AW3D30/V3_2</span></li><li><span class='ee-k'>system:asset_size:</span><span class='ee-v'>206498044910</span></li><li><label class='ee-shut'>system:footprint: LinearRing (5 vertices)<input type='checkbox' class='ee-toggle'></label><ul><li><span class='ee-k'>type:</span><span class='ee-v'>LinearRing</span></li><li><label class='ee-shut'>coordinates: List (5 elements)<input type='checkbox' class='ee-toggle'></label><ul><li><label class='ee-shut'>0: [-180, -90]<input type='checkbox' class='ee-toggle'></label><ul><li><span class='ee-k'>0:</span><span class='ee-v'>-180</span></li><li><span class='ee-k'>1:</span><span class='ee-v'>-90</span></li></ul></li><li><label class='ee-shut'>1: [180, -90]<input type='checkbox' class='ee-toggle'></label><ul><li><span class='ee-k'>0:</span><span class='ee-v'>180</span></li><li><span class='ee-k'>1:</span><span class='ee-v'>-90</span></li></ul></li><li><label class='ee-shut'>2: [180, 90]<input type='checkbox' class='ee-toggle'></label><ul><li><span class='ee-k'>0:</span><span class='ee-v'>180</span></li><li><span class='ee-k'>1:</span><span class='ee-v'>90</span></li></ul></li><li><label class='ee-shut'>3: [-180, 90]<input type='checkbox' class='ee-toggle'></label><ul><li><span class='ee-k'>0:</span><span class='ee-v'>-180</span></li><li><span class='ee-k'>1:</span><span class='ee-v'>90</span></li></ul></li><li><label class='ee-shut'>4: [-180, -90]<input type='checkbox' class='ee-toggle'></label><ul><li><span class='ee-k'>0:</span><span class='ee-v'>-180</span></li><li><span class='ee-k'>1:</span><span class='ee-v'>-90</span></li></ul></li></ul></li></ul></li><li><span class='ee-k'>system:time_end:</span><span class='ee-v'>1306800000000</span></li><li><span class='ee-k'>system:time_start:</span><span class='ee-v'>1136073600000</span></li><li><label class='ee-shut'>tags: List (6 elements)<input type='checkbox' class='ee-toggle'></label><ul><li><span class='ee-k'>0:</span><span class='ee-v'>alos</span></li><li><span class='ee-k'>1:</span><span class='ee-v'>dem</span></li><li><span class='ee-k'>2:</span><span class='ee-v'>elevation</span></li><li><span class='ee-k'>3:</span><span class='ee-v'>geophysical</span></li><li><span class='ee-k'>4:</span><span class='ee-v'>jaxa</span></li><li><span class='ee-k'>5:</span><span class='ee-v'>topography</span></li></ul></li><li><span class='ee-k'>thumb:</span><span class='ee-v'>https://mw1.google.com/ges/dd/images/AW3D30_thumb.png</span></li><li><span class='ee-k'>title:</span><span class='ee-v'>ALOS DSM: Global 30m [deprecated]</span></li><li><span class='ee-k'>type_name:</span><span class='ee-v'>Image</span></li><li><span class='ee-k'>visualization_0_bands:</span><span class='ee-v'>AVE_DSM</span></li><li><span class='ee-k'>visualization_0_max:</span><span class='ee-v'>15355.0</span></li><li><span class='ee-k'>visualization_0_min:</span><span class='ee-v'>0.0</span></li><li><span class='ee-k'>visualization_0_name:</span><span class='ee-v'>Elevation</span></li><li><span class='ee-k'>visualization_0_palette:</span><span class='ee-v'>0000ff,00ffff,ffff00,ff0000,ffffff</span></li></ul></li></ul></li></ul></div><script>function toggleHeader() {\n    const parent = this.parentElement;\n    parent.className = parent.className === \"ee-open\" ? \"ee-shut\" : \"ee-open\";\n}\n\nfor (let c of document.getElementsByClassName(\"ee-toggle\")) {\n    c.onclick = toggleHeader;\n}</script></div>"
     },
     "metadata": {},
     "output_type": "display_data"
    },
    {
     "data": {
      "text/plain": "<ee.image.Image at 0x2891678a8f0>",
      "text/html": "<div><style>:root {\n  --font-color-primary: var(--jp-content-font-color0, rgba(0, 0, 0, 1));\n  --font-color-secondary: var(--jp-content-font-color2, rgba(0, 0, 0, 0.6));\n  --font-color-accent: rgba(123, 31, 162, 1);\n  --border-color: var(--jp-border-color2, #e0e0e0);\n  --background-color: var(--jp-layout-color0, white);\n  --background-color-row-even: var(--jp-layout-color1, white);\n  --background-color-row-odd: var(--jp-layout-color2, #eeeeee);\n}\n\nhtml[theme=\"dark\"],\nbody[data-theme=\"dark\"],\nbody.vscode-dark {\n  --font-color-primary: rgba(255, 255, 255, 1);\n  --font-color-secondary: rgba(255, 255, 255, 0.6);\n  --font-color-accent: rgb(173, 132, 190);\n  --border-color: #2e2e2e;\n  --background-color: #111111;\n  --background-color-row-even: #111111;\n  --background-color-row-odd: #313131;\n}\n\n.ee {\n  padding: 1em;\n  line-height: 1.5em;\n  min-width: 300px;\n  max-width: 1200px;\n  overflow-y: scroll;\n  max-height: 600px;\n  border: 1px solid var(--border-color);\n  font-family: monospace;\n}\n\n.ee li {\n  list-style-type: none;\n}\n\n.ee ul {\n  padding-left: 1.5em !important;\n  margin: 0;\n}\n\n.ee > ul {\n  padding-left: 0 !important;\n}\n\n.ee-open,\n.ee-shut {\n  color: var(--font-color-secondary);\n  cursor: pointer;\n  margin: 0;\n}\n\n.ee-open:hover,\n.ee-shut:hover {\n  color: var(--font-color-primary);\n}\n\n.ee-k {\n  color: var(--font-color-accent);\n  margin-right: 6px;\n}\n\n.ee-v {\n  color: var(--font-color-primary);\n}\n\n.ee-toggle {\n  display: none;\n}\n\n.ee-shut + ul {\n  display: none;\n}\n\n.ee-open + ul {\n  display: block;\n}\n\n.ee-shut::before {\n  display: inline-block;\n  content: \"▼\";\n  margin-right: 6px;\n  transform: rotate(-90deg);\n  transition: transform 0.2s;\n}\n\n.ee-open::before {\n  transform: rotate(0deg);\n  display: inline-block;\n  content: \"▼\";\n  margin-right: 6px;\n  transition: transform 0.2s;\n}\n</style><div class='ee'><ul><li><label class='ee-shut'>Image (1 band)<input type='checkbox' class='ee-toggle'></label><ul><li><span class='ee-k'>type:</span><span class='ee-v'>Image</span></li><li><label class='ee-shut'>bands: List (1 element)<input type='checkbox' class='ee-toggle'></label><ul><li><label class='ee-shut'>0: \"constant\", int ∈ [0, 0], EPSG:4326<input type='checkbox' class='ee-toggle'></label><ul><li><span class='ee-k'>id:</span><span class='ee-v'>constant</span></li><li><span class='ee-k'>crs:</span><span class='ee-v'>EPSG:4326</span></li><li><label class='ee-shut'>crs_transform: [1, 0, 0, 0, 1, 0]<input type='checkbox' class='ee-toggle'></label><ul><li><span class='ee-k'>0:</span><span class='ee-v'>1</span></li><li><span class='ee-k'>1:</span><span class='ee-v'>0</span></li><li><span class='ee-k'>2:</span><span class='ee-v'>0</span></li><li><span class='ee-k'>3:</span><span class='ee-v'>0</span></li><li><span class='ee-k'>4:</span><span class='ee-v'>1</span></li><li><span class='ee-k'>5:</span><span class='ee-v'>0</span></li></ul></li><li><label class='ee-shut'>data_type: int ∈ [0, 0]<input type='checkbox' class='ee-toggle'></label><ul><li><span class='ee-k'>type:</span><span class='ee-v'>PixelType</span></li><li><span class='ee-k'>max:</span><span class='ee-v'>0</span></li><li><span class='ee-k'>min:</span><span class='ee-v'>0</span></li><li><span class='ee-k'>precision:</span><span class='ee-v'>int</span></li></ul></li></ul></li></ul></li></ul></li></ul></div><script>function toggleHeader() {\n    const parent = this.parentElement;\n    parent.className = parent.className === \"ee-open\" ? \"ee-shut\" : \"ee-open\";\n}\n\nfor (let c of document.getElementsByClassName(\"ee-toggle\")) {\n    c.onclick = toggleHeader;\n}</script></div>"
     },
     "metadata": {},
     "output_type": "display_data"
    },
    {
     "data": {
      "text/plain": "<ee.image.Image at 0x2891653ba60>",
      "text/html": "<div><style>:root {\n  --font-color-primary: var(--jp-content-font-color0, rgba(0, 0, 0, 1));\n  --font-color-secondary: var(--jp-content-font-color2, rgba(0, 0, 0, 0.6));\n  --font-color-accent: rgba(123, 31, 162, 1);\n  --border-color: var(--jp-border-color2, #e0e0e0);\n  --background-color: var(--jp-layout-color0, white);\n  --background-color-row-even: var(--jp-layout-color1, white);\n  --background-color-row-odd: var(--jp-layout-color2, #eeeeee);\n}\n\nhtml[theme=\"dark\"],\nbody[data-theme=\"dark\"],\nbody.vscode-dark {\n  --font-color-primary: rgba(255, 255, 255, 1);\n  --font-color-secondary: rgba(255, 255, 255, 0.6);\n  --font-color-accent: rgb(173, 132, 190);\n  --border-color: #2e2e2e;\n  --background-color: #111111;\n  --background-color-row-even: #111111;\n  --background-color-row-odd: #313131;\n}\n\n.ee {\n  padding: 1em;\n  line-height: 1.5em;\n  min-width: 300px;\n  max-width: 1200px;\n  overflow-y: scroll;\n  max-height: 600px;\n  border: 1px solid var(--border-color);\n  font-family: monospace;\n}\n\n.ee li {\n  list-style-type: none;\n}\n\n.ee ul {\n  padding-left: 1.5em !important;\n  margin: 0;\n}\n\n.ee > ul {\n  padding-left: 0 !important;\n}\n\n.ee-open,\n.ee-shut {\n  color: var(--font-color-secondary);\n  cursor: pointer;\n  margin: 0;\n}\n\n.ee-open:hover,\n.ee-shut:hover {\n  color: var(--font-color-primary);\n}\n\n.ee-k {\n  color: var(--font-color-accent);\n  margin-right: 6px;\n}\n\n.ee-v {\n  color: var(--font-color-primary);\n}\n\n.ee-toggle {\n  display: none;\n}\n\n.ee-shut + ul {\n  display: none;\n}\n\n.ee-open + ul {\n  display: block;\n}\n\n.ee-shut::before {\n  display: inline-block;\n  content: \"▼\";\n  margin-right: 6px;\n  transform: rotate(-90deg);\n  transition: transform 0.2s;\n}\n\n.ee-open::before {\n  transform: rotate(0deg);\n  display: inline-block;\n  content: \"▼\";\n  margin-right: 6px;\n  transition: transform 0.2s;\n}\n</style><div class='ee'><ul><li><label class='ee-shut'>Image (3 bands)<input type='checkbox' class='ee-toggle'></label><ul><li><span class='ee-k'>type:</span><span class='ee-v'>Image</span></li><li><label class='ee-shut'>bands: List (3 elements)<input type='checkbox' class='ee-toggle'></label><ul><li><label class='ee-shut'>0: \"constant\", int ∈ [255, 255], EPSG:4326<input type='checkbox' class='ee-toggle'></label><ul><li><span class='ee-k'>id:</span><span class='ee-v'>constant</span></li><li><span class='ee-k'>crs:</span><span class='ee-v'>EPSG:4326</span></li><li><label class='ee-shut'>crs_transform: [1, 0, 0, 0, 1, 0]<input type='checkbox' class='ee-toggle'></label><ul><li><span class='ee-k'>0:</span><span class='ee-v'>1</span></li><li><span class='ee-k'>1:</span><span class='ee-v'>0</span></li><li><span class='ee-k'>2:</span><span class='ee-v'>0</span></li><li><span class='ee-k'>3:</span><span class='ee-v'>0</span></li><li><span class='ee-k'>4:</span><span class='ee-v'>1</span></li><li><span class='ee-k'>5:</span><span class='ee-v'>0</span></li></ul></li><li><label class='ee-shut'>data_type: int ∈ [255, 255]<input type='checkbox' class='ee-toggle'></label><ul><li><span class='ee-k'>type:</span><span class='ee-v'>PixelType</span></li><li><span class='ee-k'>max:</span><span class='ee-v'>255</span></li><li><span class='ee-k'>min:</span><span class='ee-v'>255</span></li><li><span class='ee-k'>precision:</span><span class='ee-v'>int</span></li></ul></li></ul></li><li><label class='ee-shut'>1: \"constant_1\", int ∈ [136, 136], EPSG:4326<input type='checkbox' class='ee-toggle'></label><ul><li><span class='ee-k'>id:</span><span class='ee-v'>constant_1</span></li><li><span class='ee-k'>crs:</span><span class='ee-v'>EPSG:4326</span></li><li><label class='ee-shut'>crs_transform: [1, 0, 0, 0, 1, 0]<input type='checkbox' class='ee-toggle'></label><ul><li><span class='ee-k'>0:</span><span class='ee-v'>1</span></li><li><span class='ee-k'>1:</span><span class='ee-v'>0</span></li><li><span class='ee-k'>2:</span><span class='ee-v'>0</span></li><li><span class='ee-k'>3:</span><span class='ee-v'>0</span></li><li><span class='ee-k'>4:</span><span class='ee-v'>1</span></li><li><span class='ee-k'>5:</span><span class='ee-v'>0</span></li></ul></li><li><label class='ee-shut'>data_type: int ∈ [136, 136]<input type='checkbox' class='ee-toggle'></label><ul><li><span class='ee-k'>type:</span><span class='ee-v'>PixelType</span></li><li><span class='ee-k'>max:</span><span class='ee-v'>136</span></li><li><span class='ee-k'>min:</span><span class='ee-v'>136</span></li><li><span class='ee-k'>precision:</span><span class='ee-v'>int</span></li></ul></li></ul></li><li><label class='ee-shut'>2: \"constant_2\", int ∈ [0, 0], EPSG:4326<input type='checkbox' class='ee-toggle'></label><ul><li><span class='ee-k'>id:</span><span class='ee-v'>constant_2</span></li><li><span class='ee-k'>crs:</span><span class='ee-v'>EPSG:4326</span></li><li><label class='ee-shut'>crs_transform: [1, 0, 0, 0, 1, 0]<input type='checkbox' class='ee-toggle'></label><ul><li><span class='ee-k'>0:</span><span class='ee-v'>1</span></li><li><span class='ee-k'>1:</span><span class='ee-v'>0</span></li><li><span class='ee-k'>2:</span><span class='ee-v'>0</span></li><li><span class='ee-k'>3:</span><span class='ee-v'>0</span></li><li><span class='ee-k'>4:</span><span class='ee-v'>1</span></li><li><span class='ee-k'>5:</span><span class='ee-v'>0</span></li></ul></li><li><label class='ee-shut'>data_type: int ∈ [0, 0]<input type='checkbox' class='ee-toggle'></label><ul><li><span class='ee-k'>type:</span><span class='ee-v'>PixelType</span></li><li><span class='ee-k'>max:</span><span class='ee-v'>0</span></li><li><span class='ee-k'>min:</span><span class='ee-v'>0</span></li><li><span class='ee-k'>precision:</span><span class='ee-v'>int</span></li></ul></li></ul></li></ul></li></ul></li></ul></div><script>function toggleHeader() {\n    const parent = this.parentElement;\n    parent.className = parent.className === \"ee-open\" ? \"ee-shut\" : \"ee-open\";\n}\n\nfor (let c of document.getElementsByClassName(\"ee-toggle\")) {\n    c.onclick = toggleHeader;\n}</script></div>"
     },
     "metadata": {},
     "output_type": "display_data"
    },
    {
     "data": {
      "text/plain": "<ee.image.Image at 0x2891653ab00>",
      "text/html": "<div><style>:root {\n  --font-color-primary: var(--jp-content-font-color0, rgba(0, 0, 0, 1));\n  --font-color-secondary: var(--jp-content-font-color2, rgba(0, 0, 0, 0.6));\n  --font-color-accent: rgba(123, 31, 162, 1);\n  --border-color: var(--jp-border-color2, #e0e0e0);\n  --background-color: var(--jp-layout-color0, white);\n  --background-color-row-even: var(--jp-layout-color1, white);\n  --background-color-row-odd: var(--jp-layout-color2, #eeeeee);\n}\n\nhtml[theme=\"dark\"],\nbody[data-theme=\"dark\"],\nbody.vscode-dark {\n  --font-color-primary: rgba(255, 255, 255, 1);\n  --font-color-secondary: rgba(255, 255, 255, 0.6);\n  --font-color-accent: rgb(173, 132, 190);\n  --border-color: #2e2e2e;\n  --background-color: #111111;\n  --background-color-row-even: #111111;\n  --background-color-row-odd: #313131;\n}\n\n.ee {\n  padding: 1em;\n  line-height: 1.5em;\n  min-width: 300px;\n  max-width: 1200px;\n  overflow-y: scroll;\n  max-height: 600px;\n  border: 1px solid var(--border-color);\n  font-family: monospace;\n}\n\n.ee li {\n  list-style-type: none;\n}\n\n.ee ul {\n  padding-left: 1.5em !important;\n  margin: 0;\n}\n\n.ee > ul {\n  padding-left: 0 !important;\n}\n\n.ee-open,\n.ee-shut {\n  color: var(--font-color-secondary);\n  cursor: pointer;\n  margin: 0;\n}\n\n.ee-open:hover,\n.ee-shut:hover {\n  color: var(--font-color-primary);\n}\n\n.ee-k {\n  color: var(--font-color-accent);\n  margin-right: 6px;\n}\n\n.ee-v {\n  color: var(--font-color-primary);\n}\n\n.ee-toggle {\n  display: none;\n}\n\n.ee-shut + ul {\n  display: none;\n}\n\n.ee-open + ul {\n  display: block;\n}\n\n.ee-shut::before {\n  display: inline-block;\n  content: \"▼\";\n  margin-right: 6px;\n  transform: rotate(-90deg);\n  transition: transform 0.2s;\n}\n\n.ee-open::before {\n  transform: rotate(0deg);\n  display: inline-block;\n  content: \"▼\";\n  margin-right: 6px;\n  transition: transform 0.2s;\n}\n</style><div class='ee'><ul><li><label class='ee-shut'>Image (1 band)<input type='checkbox' class='ee-toggle'></label><ul><li><span class='ee-k'>type:</span><span class='ee-v'>Image</span></li><li><label class='ee-shut'>bands: List (1 element)<input type='checkbox' class='ee-toggle'></label><ul><li><label class='ee-shut'>0: \"constant\", unsigned int8, EPSG:4326<input type='checkbox' class='ee-toggle'></label><ul><li><span class='ee-k'>id:</span><span class='ee-v'>constant</span></li><li><span class='ee-k'>crs:</span><span class='ee-v'>EPSG:4326</span></li><li><label class='ee-shut'>crs_transform: [1, 0, 0, 0, 1, 0]<input type='checkbox' class='ee-toggle'></label><ul><li><span class='ee-k'>0:</span><span class='ee-v'>1</span></li><li><span class='ee-k'>1:</span><span class='ee-v'>0</span></li><li><span class='ee-k'>2:</span><span class='ee-v'>0</span></li><li><span class='ee-k'>3:</span><span class='ee-v'>0</span></li><li><span class='ee-k'>4:</span><span class='ee-v'>1</span></li><li><span class='ee-k'>5:</span><span class='ee-v'>0</span></li></ul></li><li><label class='ee-shut'>data_type: unsigned int8<input type='checkbox' class='ee-toggle'></label><ul><li><span class='ee-k'>type:</span><span class='ee-v'>PixelType</span></li><li><span class='ee-k'>dimensions:</span><span class='ee-v'>1</span></li><li><span class='ee-k'>max:</span><span class='ee-v'>255</span></li><li><span class='ee-k'>min:</span><span class='ee-v'>0</span></li><li><span class='ee-k'>precision:</span><span class='ee-v'>int</span></li></ul></li></ul></li></ul></li></ul></li></ul></div><script>function toggleHeader() {\n    const parent = this.parentElement;\n    parent.className = parent.className === \"ee-open\" ? \"ee-shut\" : \"ee-open\";\n}\n\nfor (let c of document.getElementsByClassName(\"ee-toggle\")) {\n    c.onclick = toggleHeader;\n}</script></div>"
     },
     "metadata": {},
     "output_type": "display_data"
    }
   ],
   "source": [
    "ee.Initialize()\n",
    "image = ee.Image('JAXA/ALOS/AW3D30/V2_2')\n",
    "\n",
    "m = geemap.Map()\n",
    "m.zoom = 3\n",
    "display(m)\n",
    "m.add_layer(image.select('AVE_DSM'), {'min': -1e3, 'max': 5e3}, 'AVE_DSM')\n",
    "# Image JAXA/ALOS/AW3D30/V2_2 (3 bands)\n",
    "# type: Image\n",
    "# id: JAXA/ALOS/AW3D30/V2_2\n",
    "# version: 1595337806697615\n",
    "# 'bands': List (3 elements)\n",
    "# properties: Object (21 properties)\n",
    "display(image)\n",
    "\n",
    "transparent = ee.Image()\n",
    "m.add_layer(transparent, None, 'transparent', False)\n",
    "# Image (1 band)\n",
    "# type: Image\n",
    "# 'bands': List (1 element)\n",
    "# 0: \"constant\", int ∈ [0, 0], EPSG:4326\n",
    "display(transparent)\n",
    "\n",
    "# Create a multi-band image from a list of constants.\n",
    "orange = ee.Image([0xFF, 0x88, 0x00])\n",
    "m.add_layer(orange, {'min': 0, 'max': 0xFF}, 'orange', False)\n",
    "# Image (3 bands)\n",
    "# type: Image\n",
    "# 'bands': List (3 elements)\n",
    "# 0: \"constant\", int ∈ [255, 255], EPSG:4326\n",
    "# 1: \"constant_1\", int ∈ [136, 136], EPSG:4326\n",
    "# 2: \"constant_2\", int ∈ [0, 0], EPSG:4326\n",
    "display(orange)\n",
    "\n",
    "# Create a one band image where each pixel is an array of three values.\n",
    "image_of_array = ee.Image(ee.Array([0x00, 0x00, 0xFF]))\n",
    "m.add_layer(image_of_array, None, 'image_of_array', False)\n",
    "# Image (1 band)\n",
    "# type: Image\n",
    "# 'bands': List (1 element)\n",
    "# 0: \"constant\", unsigned int8, 1 dimension, EPSG:4326\n",
    "# id: constant\n",
    "# crs: EPSG:4326\n",
    "# crs_transform: [1,0,0,0,1,0]\n",
    "# data_type: unsigned int8, 1 dimension\n",
    "# type: PixelType\n",
    "# dimensions: 1\n",
    "# 'max': 255\n",
    "# 'min': 0\n",
    "# precision: int\n",
    "display(image_of_array)"
   ],
   "metadata": {
    "collapsed": false
   }
  },
  {
   "cell_type": "code",
   "execution_count": null,
   "outputs": [],
   "source": [],
   "metadata": {
    "collapsed": false,
    "pycharm": {
     "is_executing": true
    }
   }
  },
  {
   "cell_type": "code",
   "execution_count": 11,
   "outputs": [],
   "source": [],
   "metadata": {
    "collapsed": false
   }
  }
 ],
 "metadata": {
  "kernelspec": {
   "display_name": "Python 3",
   "language": "python",
   "name": "python3"
  },
  "language_info": {
   "codemirror_mode": {
    "name": "ipython",
    "version": 2
   },
   "file_extension": ".py",
   "mimetype": "text/x-python",
   "name": "python",
   "nbconvert_exporter": "python",
   "pygments_lexer": "ipython2",
   "version": "2.7.6"
  }
 },
 "nbformat": 4,
 "nbformat_minor": 0
}
