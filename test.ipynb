{
 "cells": [
  {
   "cell_type": "code",
   "execution_count": 4,
   "metadata": {
    "collapsed": true,
    "ExecuteTime": {
     "end_time": "2024-01-10T08:52:26.440867Z",
     "start_time": "2024-01-10T08:52:26.439313Z"
    }
   },
   "outputs": [],
   "source": [
    "import ee"
   ]
  },
  {
   "cell_type": "code",
   "execution_count": 3,
   "outputs": [],
   "source": [
    "ee.Initialize(project='tuproq')\n",
    "# image = ee.Image('JAXA/ALOS/AW3D30/V2_2')\n",
    "# \n",
    "# m = geemap.Map()\n",
    "# m.zoom = 3\n",
    "# display(m)\n",
    "# m.add_layer(image.select('AVE_DSM'), {'min': -1e3, 'max': 5e3}, 'AVE_DSM')\n",
    "# # Image JAXA/ALOS/AW3D30/V2_2 (3 bands)\n",
    "# # type: Image\n",
    "# # id: JAXA/ALOS/AW3D30/V2_2\n",
    "# # version: 1595337806697615\n",
    "# # 'bands': List (3 elements)\n",
    "# # properties: Object (21 properties)\n",
    "# display(image)\n",
    "# \n",
    "# transparent = ee.Image()\n",
    "# m.add_layer(transparent, None, 'transparent', False)\n",
    "# # Image (1 band)\n",
    "# # type: Image\n",
    "# # 'bands': List (1 element)\n",
    "# # 0: \"constant\", int ∈ [0, 0], EPSG:4326\n",
    "# display(transparent)\n",
    "# \n",
    "# # Create a multi-band image from a list of constants.\n",
    "# orange = ee.Image([0xFF, 0x88, 0x00])\n",
    "# m.add_layer(orange, {'min': 0, 'max': 0xFF}, 'orange', False)\n",
    "# # Image (3 bands)\n",
    "# # type: Image\n",
    "# # 'bands': List (3 elements)\n",
    "# # 0: \"constant\", int ∈ [255, 255], EPSG:4326\n",
    "# # 1: \"constant_1\", int ∈ [136, 136], EPSG:4326\n",
    "# # 2: \"constant_2\", int ∈ [0, 0], EPSG:4326\n",
    "# display(orange)\n",
    "# \n",
    "# # Create a one band image where each pixel is an array of three values.\n",
    "# image_of_array = ee.Image(ee.Array([0x00, 0x00, 0xFF]))\n",
    "# m.add_layer(image_of_array, None, 'image_of_array', False)\n",
    "# # Image (1 band)\n",
    "# # type: Image\n",
    "# # 'bands': List (1 element)\n",
    "# # 0: \"constant\", unsigned int8, 1 dimension, EPSG:4326\n",
    "# # id: constant\n",
    "# # crs: EPSG:4326\n",
    "# # crs_transform: [1,0,0,0,1,0]\n",
    "# # data_type: unsigned int8, 1 dimension\n",
    "# # type: PixelType\n",
    "# # dimensions: 1\n",
    "# # 'max': 255\n",
    "# # 'min': 0\n",
    "# # precision: int\n",
    "# display(image_of_array)"
   ],
   "metadata": {
    "collapsed": false
   }
  },
  {
   "cell_type": "code",
   "execution_count": 3,
   "outputs": [],
   "source": [],
   "metadata": {
    "collapsed": false,
    "pycharm": {
     "is_executing": true
    },
    "ExecuteTime": {
     "end_time": "2024-01-10T08:52:26.435317Z",
     "start_time": "2024-01-10T08:52:26.434045Z"
    }
   }
  },
  {
   "cell_type": "code",
   "execution_count": 3,
   "outputs": [],
   "source": [],
   "metadata": {
    "collapsed": false,
    "ExecuteTime": {
     "end_time": "2024-01-10T08:52:26.438232Z",
     "start_time": "2024-01-10T08:52:26.436701Z"
    }
   }
  }
 ],
 "metadata": {
  "kernelspec": {
   "display_name": "Python 3",
   "language": "python",
   "name": "python3"
  },
  "language_info": {
   "codemirror_mode": {
    "name": "ipython",
    "version": 2
   },
   "file_extension": ".py",
   "mimetype": "text/x-python",
   "name": "python",
   "nbconvert_exporter": "python",
   "pygments_lexer": "ipython2",
   "version": "2.7.6"
  }
 },
 "nbformat": 4,
 "nbformat_minor": 0
}
